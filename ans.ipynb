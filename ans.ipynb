{
 "cells": [
  {
   "cell_type": "markdown",
   "metadata": {},
   "source": [
    "# SMAI Homework -1"
   ]
  },
  {
   "cell_type": "markdown",
   "metadata": {},
   "source": [
    "Consider two sets of points p0 and p1 describing a line in a 2-Dimensional (2D) plane. \n",
    "\n",
    "Consider an arbitrary point p in 2D."
   ]
  },
  {
   "cell_type": "markdown",
   "metadata": {},
   "source": [
    "## Part 1 - Compute the  orthogonal distance between point p and the the line segment     joining the points p0 and p1 ."
   ]
  },
  {
   "cell_type": "markdown",
   "metadata": {},
   "source": [
    "Here we consider all points as random inputs. \n",
    "\n",
    "Run the following code for part 1"
   ]
  },
  {
   "cell_type": "code",
   "execution_count": 1,
   "metadata": {},
   "outputs": [
    {
     "name": "stdout",
     "output_type": "stream",
     "text": [
      "Orthogonal distance from point  [0.29522077 9.10290489] \n",
      " to line joining  [6.05284123 6.61912423] [9.0923564  8.61786314]  is\n",
      "5.238730558794553\n"
     ]
    }
   ],
   "source": [
    "import numpy as np\n",
    "import matplotlib.pyplot as plt\n",
    "\n",
    "p0=np.random.rand(2)\n",
    "p1=np.random.rand(2)\n",
    "p=np.random.rand(2)\n",
    "p1=p1*10\n",
    "p0=p0*10\n",
    "p=p*10\n",
    "# p0=np.array([0,0])\n",
    "# p1=np.array([2,2])\n",
    "# p=np.array([1,0])\n",
    "# print(p0,p1,p)\n",
    "print(\"Orthogonal distance from point \",p , \"\\n to line joining \", p0 , p1 , \" is\")\n",
    "dis=np.abs(np.cross(p-p1,p1-p0))\n",
    "dis1=np.linalg.norm(p1-p0)\n",
    "print(dis/dis1)"
   ]
  },
  {
   "cell_type": "markdown",
   "metadata": {},
   "source": [
    "## Part 2 - Plot the line segment joining the points p 0 and p 1 , the point p and the orthogonal distance between the point and the line segment."
   ]
  },
  {
   "cell_type": "markdown",
   "metadata": {},
   "source": [
    "Here we consider the above points to plot. \n",
    "\n",
    "Run the following code for part 2 after running above code"
   ]
  },
  {
   "cell_type": "code",
   "execution_count": 2,
   "metadata": {},
   "outputs": [
    {
     "data": {
      "text/plain": [
       "<matplotlib.legend.Legend at 0x7f14d7047410>"
      ]
     },
     "execution_count": 2,
     "metadata": {},
     "output_type": "execute_result"
    },
    {
     "data": {
      "image/png": "[encoded data removed]",
      "text/plain": [
       "<Figure size 432x288 with 1 Axes>"
      ]
     },
     "metadata": {
      "needs_background": "light"
     },
     "output_type": "display_data"
    }
   ],
   "source": [
    "dir= (p1-p0)*1/np.linalg.norm(p1-p0)\n",
    "intersection = p0 + dir*np.dot(p-p0,p1-p0)/np.linalg.norm(p1-p0)\n",
    "dir2= (p-intersection)*1/np.linalg.norm(p-intersection)\n",
    "# print(intersection)\n",
    "dist=np.linalg.norm(intersection-p)\n",
    "plt.plot(*zip(p0,p1,intersection),label='Given line', marker='o')\n",
    "plt.plot(*zip(p,intersection),label='Normal', marker='x')\n",
    "plt.xlim(-1,11)\n",
    "plt.ylim(-1,11)\n",
    "plt.annotate(\"p0\",p0-(dir*1/4))\n",
    "plt.annotate(\"p\",p+(dir2*1/3))\n",
    "plt.annotate(\"p1\",p1+(dir*1/4))\n",
    "plt.annotate(\"N\",intersection-(dir2*1/3))\n",
    "plt.gca().set_aspect('equal')\n",
    "plt.xlabel('x axis')\n",
    "plt.ylabel('y axis')\n",
    "plt.title('Perpendicular from point to line')\n",
    "plt.legend()"
   ]
  }
 ],
 "metadata": {
  "colab": {
   "collapsed_sections": [],
   "name": "colab-tutorial.ipynb",
   "provenance": []
  },
  "kernelspec": {
   "display_name": "Python 3",
   "language": "python",
   "name": "python3"
  },
  "language_info": {
   "codemirror_mode": {
    "name": "ipython",
    "version": 3
   },
   "file_extension": ".py",
   "mimetype": "text/x-python",
   "name": "python",
   "nbconvert_exporter": "python",
   "pygments_lexer": "ipython3",
   "version": "3.7.4"
  }
 },
 "nbformat": 4,
 "nbformat_minor": 1
}
